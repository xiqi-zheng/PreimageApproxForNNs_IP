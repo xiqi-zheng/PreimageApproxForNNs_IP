{
 "cells": [
  {
   "cell_type": "code",
   "id": "f38823aa216a18a6",
   "metadata": {
    "ExecuteTime": {
     "end_time": "2025-03-31T14:01:33.332091Z",
     "start_time": "2025-03-31T14:01:33.282613Z"
    }
   },
   "source": [
    "import torch\n",
    "\n",
    "# 加载采样数据\n",
    "# samples = torch.load(\"./sample_dir/sample_MNIST_ERAN_patch_size_5_10.pt\")\n",
    "samples = torch.load('./sample_dir/sample_MNIST_ERAN_patch_size_4_4.pt')\n",
    "# 查看 shape\n",
    "print(\"Shape of samples:\", samples.shape)  # 预期 (sample_num, 1, 28, 28) 或 (sample_num, 28*28)\n"
   ],
   "outputs": [
    {
     "ename": "FileNotFoundError",
     "evalue": "[Errno 2] No such file or directory: './sample_dir/sample_MNIST_ERAN_patch_size_4_4.pt'",
     "output_type": "error",
     "traceback": [
      "\u001B[1;31m---------------------------------------------------------------------------\u001B[0m",
      "\u001B[1;31mFileNotFoundError\u001B[0m                         Traceback (most recent call last)",
      "Cell \u001B[1;32mIn[2], line 5\u001B[0m\n\u001B[0;32m      1\u001B[0m \u001B[38;5;28;01mimport\u001B[39;00m \u001B[38;5;21;01mtorch\u001B[39;00m\n\u001B[0;32m      3\u001B[0m \u001B[38;5;66;03m# 加载采样数据\u001B[39;00m\n\u001B[0;32m      4\u001B[0m \u001B[38;5;66;03m# samples = torch.load(\"./sample_dir/sample_MNIST_ERAN_patch_size_5_10.pt\")\u001B[39;00m\n\u001B[1;32m----> 5\u001B[0m samples \u001B[38;5;241m=\u001B[39m \u001B[43mtorch\u001B[49m\u001B[38;5;241;43m.\u001B[39;49m\u001B[43mload\u001B[49m\u001B[43m(\u001B[49m\u001B[38;5;124;43m'\u001B[39;49m\u001B[38;5;124;43m./sample_dir/sample_MNIST_ERAN_patch_size_4_4.pt\u001B[39;49m\u001B[38;5;124;43m'\u001B[39;49m\u001B[43m)\u001B[49m\n\u001B[0;32m      6\u001B[0m \u001B[38;5;66;03m# 查看 shape\u001B[39;00m\n\u001B[0;32m      7\u001B[0m \u001B[38;5;28mprint\u001B[39m(\u001B[38;5;124m\"\u001B[39m\u001B[38;5;124mShape of samples:\u001B[39m\u001B[38;5;124m\"\u001B[39m, samples\u001B[38;5;241m.\u001B[39mshape)\n",
      "File \u001B[1;32mD:\\Environment\\anaconda3\\envs\\IP\\lib\\site-packages\\torch\\serialization.py:699\u001B[0m, in \u001B[0;36mload\u001B[1;34m(f, map_location, pickle_module, **pickle_load_args)\u001B[0m\n\u001B[0;32m    696\u001B[0m \u001B[38;5;28;01mif\u001B[39;00m \u001B[38;5;124m'\u001B[39m\u001B[38;5;124mencoding\u001B[39m\u001B[38;5;124m'\u001B[39m \u001B[38;5;129;01mnot\u001B[39;00m \u001B[38;5;129;01min\u001B[39;00m pickle_load_args\u001B[38;5;241m.\u001B[39mkeys():\n\u001B[0;32m    697\u001B[0m     pickle_load_args[\u001B[38;5;124m'\u001B[39m\u001B[38;5;124mencoding\u001B[39m\u001B[38;5;124m'\u001B[39m] \u001B[38;5;241m=\u001B[39m \u001B[38;5;124m'\u001B[39m\u001B[38;5;124mutf-8\u001B[39m\u001B[38;5;124m'\u001B[39m\n\u001B[1;32m--> 699\u001B[0m \u001B[38;5;28;01mwith\u001B[39;00m \u001B[43m_open_file_like\u001B[49m\u001B[43m(\u001B[49m\u001B[43mf\u001B[49m\u001B[43m,\u001B[49m\u001B[43m \u001B[49m\u001B[38;5;124;43m'\u001B[39;49m\u001B[38;5;124;43mrb\u001B[39;49m\u001B[38;5;124;43m'\u001B[39;49m\u001B[43m)\u001B[49m \u001B[38;5;28;01mas\u001B[39;00m opened_file:\n\u001B[0;32m    700\u001B[0m     \u001B[38;5;28;01mif\u001B[39;00m _is_zipfile(opened_file):\n\u001B[0;32m    701\u001B[0m         \u001B[38;5;66;03m# The zipfile reader is going to advance the current file position.\u001B[39;00m\n\u001B[0;32m    702\u001B[0m         \u001B[38;5;66;03m# If we want to actually tail call to torch.jit.load, we need to\u001B[39;00m\n\u001B[0;32m    703\u001B[0m         \u001B[38;5;66;03m# reset back to the original position.\u001B[39;00m\n\u001B[0;32m    704\u001B[0m         orig_position \u001B[38;5;241m=\u001B[39m opened_file\u001B[38;5;241m.\u001B[39mtell()\n",
      "File \u001B[1;32mD:\\Environment\\anaconda3\\envs\\IP\\lib\\site-packages\\torch\\serialization.py:231\u001B[0m, in \u001B[0;36m_open_file_like\u001B[1;34m(name_or_buffer, mode)\u001B[0m\n\u001B[0;32m    229\u001B[0m \u001B[38;5;28;01mdef\u001B[39;00m \u001B[38;5;21m_open_file_like\u001B[39m(name_or_buffer, mode):\n\u001B[0;32m    230\u001B[0m     \u001B[38;5;28;01mif\u001B[39;00m _is_path(name_or_buffer):\n\u001B[1;32m--> 231\u001B[0m         \u001B[38;5;28;01mreturn\u001B[39;00m \u001B[43m_open_file\u001B[49m\u001B[43m(\u001B[49m\u001B[43mname_or_buffer\u001B[49m\u001B[43m,\u001B[49m\u001B[43m \u001B[49m\u001B[43mmode\u001B[49m\u001B[43m)\u001B[49m\n\u001B[0;32m    232\u001B[0m     \u001B[38;5;28;01melse\u001B[39;00m:\n\u001B[0;32m    233\u001B[0m         \u001B[38;5;28;01mif\u001B[39;00m \u001B[38;5;124m'\u001B[39m\u001B[38;5;124mw\u001B[39m\u001B[38;5;124m'\u001B[39m \u001B[38;5;129;01min\u001B[39;00m mode:\n",
      "File \u001B[1;32mD:\\Environment\\anaconda3\\envs\\IP\\lib\\site-packages\\torch\\serialization.py:212\u001B[0m, in \u001B[0;36m_open_file.__init__\u001B[1;34m(self, name, mode)\u001B[0m\n\u001B[0;32m    211\u001B[0m \u001B[38;5;28;01mdef\u001B[39;00m \u001B[38;5;21m__init__\u001B[39m(\u001B[38;5;28mself\u001B[39m, name, mode):\n\u001B[1;32m--> 212\u001B[0m     \u001B[38;5;28msuper\u001B[39m(_open_file, \u001B[38;5;28mself\u001B[39m)\u001B[38;5;241m.\u001B[39m\u001B[38;5;21m__init__\u001B[39m(\u001B[38;5;28;43mopen\u001B[39;49m\u001B[43m(\u001B[49m\u001B[43mname\u001B[49m\u001B[43m,\u001B[49m\u001B[43m \u001B[49m\u001B[43mmode\u001B[49m\u001B[43m)\u001B[49m)\n",
      "\u001B[1;31mFileNotFoundError\u001B[0m: [Errno 2] No such file or directory: './sample_dir/sample_MNIST_ERAN_patch_size_4_4.pt'"
     ]
    }
   ],
   "execution_count": 2
  },
  {
   "cell_type": "code",
   "id": "f6ca84aaf6c2237",
   "metadata": {
    "ExecuteTime": {
     "end_time": "2025-03-31T14:01:26.740749Z",
     "start_time": "2025-03-31T14:01:26.740749Z"
    }
   },
   "source": [
    "import matplotlib.pyplot as plt\n",
    "import numpy as np\n",
    "\n",
    "# 如果数据是 (1000, 784)，需要 reshape 成 (1000, 28, 28)\n",
    "if samples.ndimension() == 2 and samples.shape[1] == 28 * 28:\n",
    "    samples = samples.view(samples.shape[0], 28, 28)\n",
    "elif samples.ndimension() == 4:  # 如果是 (1000, 1, 28, 28)，去掉通道维度\n",
    "    samples = samples.squeeze(1)\n",
    "\n",
    "import matplotlib.pyplot as plt\n",
    "\n",
    "# 选取索引范围\n",
    "start_idx =0\n",
    "end_idx =1 # 这里的索引是 \"包含100\" 的，因此样本总数是 `100 - 95 + 1 = 6`\n",
    "\n",
    "# 创建 `end_idx - start_idx + 1` 个子图\n",
    "num_samples_to_plot = end_idx - start_idx + 1\n",
    "fig, axes = plt.subplots(1, num_samples_to_plot, figsize=(15, 3))\n",
    "\n",
    "# 遍历 `95` 到 `100` 之间的索引\n",
    "for i, sample_idx in enumerate(range(start_idx, end_idx + 1)):\n",
    "    axes[i].imshow(samples[sample_idx].cpu().numpy(), cmap=\"gray\")\n",
    "    axes[i].axis(\"off\")\n",
    "    axes[i].set_title(f\"Sample {sample_idx}\")\n",
    "\n",
    "plt.show()"
   ],
   "outputs": [],
   "execution_count": null
  },
  {
   "cell_type": "code",
   "execution_count": 4,
   "id": "5b00607aa1af8a86",
   "metadata": {
    "ExecuteTime": {
     "end_time": "2025-03-10T17:38:35.187166Z",
     "start_time": "2025-03-10T17:38:34.817623Z"
    }
   },
   "outputs": [
    {
     "data": {
      "image/png": "[encoded data removed]",
      "text/plain": [
       "<Figure size 640x480 with 2 Axes>"
      ]
     },
     "metadata": {},
     "output_type": "display_data"
    }
   ],
   "source": [
    "import numpy as np\n",
    "import torch\n",
    "import matplotlib.pyplot as plt\n",
    "\n",
    "# 用 numpy.load() 读取 .npy 文件\n",
    "x_original = np.load(\"./src/datasets/eran/mnist_eran/X_eran.npy\")\n",
    "\n",
    "# 如果 shape 不是 (batch, 28, 28)，需要 reshape\n",
    "if x_original.ndim == 2:\n",
    "    x_original = x_original.reshape(-1, 28, 28)\n",
    "\n",
    "# 转换为 PyTorch Tensor\n",
    "x_original = torch.tensor(x_original, dtype=torch.float32)\n",
    "\n",
    "# 计算扰动部分\n",
    "perturbation = (x_original[0] - samples[0]).abs()\n",
    "\n",
    "# 可视化扰动区域\n",
    "plt.imshow(perturbation.squeeze(0).cpu().numpy(), cmap=\"hot\")  # 去掉通道维度\n",
    "plt.colorbar()\n",
    "plt.title(\"Perturbation Heatmap\")\n",
    "plt.show()\n"
   ]
  },
  {
   "cell_type": "code",
   "execution_count": null,
   "id": "de2a9bd5ab0efd31",
   "metadata": {},
   "outputs": [],
   "source": []
  }
 ],
 "metadata": {
  "kernelspec": {
   "display_name": "Python 3 (ipykernel)",
   "language": "python",
   "name": "python3"
  },
  "language_info": {
   "codemirror_mode": {
    "name": "ipython",
    "version": 3
   },
   "file_extension": ".py",
   "mimetype": "text/x-python",
   "name": "python",
   "nbconvert_exporter": "python",
   "pygments_lexer": "ipython3",
   "version": "3.9.18"
  }
 },
 "nbformat": 4,
 "nbformat_minor": 5
}
